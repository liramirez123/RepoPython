{
 "metadata": {
  "language_info": {
   "codemirror_mode": {
    "name": "ipython",
    "version": 3
   },
   "file_extension": ".py",
   "mimetype": "text/x-python",
   "name": "python",
   "nbconvert_exporter": "python",
   "pygments_lexer": "ipython3",
   "version": "3.8.5"
  },
  "orig_nbformat": 2,
  "kernelspec": {
   "name": "python3",
   "display_name": "Python 3.8.5 32-bit"
  },
  "interpreter": {
   "hash": "022b81de8595099d513d87edef77e7cd605e2f622f60bbb58df20e71b330d8cb"
  }
 },
 "nbformat": 4,
 "nbformat_minor": 2,
 "cells": [
  {
   "cell_type": "code",
   "execution_count": null,
   "metadata": {},
   "outputs": [],
   "source": [
    "aList = [\"John\", 33, \"Toronto\", True]\n",
    "print(aList)\n",
    "type(aList)"
   ]
  },
  {
   "cell_type": "code",
   "execution_count": null,
   "metadata": {},
   "outputs": [],
   "source": [
    "bin_Colors = ['Red',\"Green\",\"Blue\",\"Yellow\"]\n",
    "bin_Colors[0:2]\n",
    "bin_Colors[1]\n",
    "bin_Colors[2:]\n",
    "bin_Colors[:2]\n",
    "bin_Colors[:-1]\n",
    "bin_Colors[-2:-1]"
   ]
  },
  {
   "cell_type": "code",
   "execution_count": null,
   "metadata": {},
   "outputs": [],
   "source": [
    "a = [1,2,[100,200,300],6]\n",
    "max(a[2])\n",
    "a[2][1]"
   ]
  },
  {
   "cell_type": "code",
   "execution_count": null,
   "metadata": {},
   "outputs": [],
   "source": [
    "for aColor in bin_Colors:\n",
    "    print(aColor+ \" Square\")"
   ]
  },
  {
   "cell_type": "code",
   "execution_count": null,
   "metadata": {},
   "outputs": [],
   "source": [
    "list(filter(lambda x: x > 100, [-5, 200, 300, -10, 10, 1000]))\n"
   ]
  },
  {
   "cell_type": "code",
   "execution_count": 1,
   "metadata": {},
   "outputs": [
    {
     "output_type": "execute_result",
     "data": {
      "text/plain": [
       "[121, 484, 1089, 1936, 3025]"
      ]
     },
     "metadata": {},
     "execution_count": 1
    }
   ],
   "source": [
    "list(map(lambda x: x ** 2, [11, 22, 33, 44, 55]))"
   ]
  },
  {
   "cell_type": "code",
   "execution_count": null,
   "metadata": {},
   "outputs": [],
   "source": [
    "from functools import reduce\n",
    "def doSum(x1,x2):\n",
    "    return x1+x2\n",
    "x = reduce(doSum, [100, 122, 33, 4, 5, 6])\n",
    "print(f\"The result of data agregation is {x}\")"
   ]
  },
  {
   "cell_type": "code",
   "execution_count": 2,
   "metadata": {},
   "outputs": [
    {
     "output_type": "stream",
     "name": "stdout",
     "text": [
      "The second element of the tuple is Gren\nThe elemnts after thrid element onwards are ('Blue', 'Yellow') \n"
     ]
    }
   ],
   "source": [
    "bin_colors=('Red','Gren','Blue','Yellow')\n",
    "print(f\"The second element of the tuple is {bin_colors[1]}\")\n",
    "print(f\"The elemnts after thrid element onwards are {bin_colors[2:]} \")"
   ]
  },
  {
   "cell_type": "code",
   "execution_count": 1,
   "metadata": {},
   "outputs": [
    {
     "output_type": "stream",
     "name": "stdout",
     "text": [
      "The maximun value of the inner tuple 300\n"
     ]
    }
   ],
   "source": [
    "nested_tuple = (1,2,(100,200,300),6)\n",
    "print(f\"The maximun value of the inner tuple {max(nested_tuple[2])}\")"
   ]
  },
  {
   "cell_type": "code",
   "execution_count": 2,
   "metadata": {},
   "outputs": [],
   "source": [
    "bin_colors = {\n",
    "    \"manual_color\":\"Yellow\",\n",
    "    \"approved_color\":\"Green\",\n",
    "    \"refuse_color\":\"Red\"\n",
    "}"
   ]
  },
  {
   "cell_type": "code",
   "execution_count": 3,
   "metadata": {},
   "outputs": [
    {
     "output_type": "stream",
     "name": "stdout",
     "text": [
      "{'manual_color': 'Yellow', 'approved_color': 'Green', 'refuse_color': 'Red'}\n"
     ]
    }
   ],
   "source": [
    "print(bin_colors)"
   ]
  },
  {
   "cell_type": "code",
   "execution_count": null,
   "metadata": {},
   "outputs": [],
   "source": []
  }
 ]
}